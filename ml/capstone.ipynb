{
 "cells": [
  {
   "cell_type": "code",
   "execution_count": 65,
   "id": "c84b757f-e951-49ac-bc44-c68cce9e404c",
   "metadata": {},
   "outputs": [],
   "source": [
    "import os\n",
    "import sys\n",
    "import glob\n",
    "import random\n",
    "import warnings\n",
    "import itertools\n",
    "from tqdm import tqdm\n",
    "from pathlib import Path\n",
    "\n",
    "import numpy as np\n",
    "import pandas as pd\n",
    "import matplotlib.pyplot as plt\n",
    "\n",
    "#import cv2  # pip install opencv-python\n",
    "#from PIL import Image\n",
    "#from PIL import ImageFont\n",
    "#from PIL import ImageDraw\n",
    "#from IPython.display import SVG\n",
    "from sklearn.model_selection import train_test_split\n",
    "from sklearn.preprocessing import LabelEncoder\n",
    "import xml.etree.ElementTree as ET\n",
    "from xml.etree.ElementTree import Element, ElementTree\n",
    "from sklearn.metrics import roc_curve, auc, precision_recall_curve, average_precision_score\n",
    "\n",
    "\n",
    "\n",
    "\n",
    "#from pathlib import Path\n",
    "import keras\n",
    "import tensorflow as tf\n",
    "from tensorflow.keras.preprocessing.image import load_img,img_to_array,ImageDataGenerator\n",
    "from tensorflow.keras.models import Model,Sequential\n",
    "from tensorflow.keras.layers import Dense, Conv2D, Flatten, Dropout, MaxPooling2D,BatchNormalization ,Conv2D,GlobalAveragePooling2D\n",
    "from tensorflow.keras.regularizers import l2\n",
    "from tensorflow.keras.optimizers import RMSprop, Adam,SGD\n",
    "from tensorflow.keras.utils import to_categorical,plot_model\n",
    "from tensorflow.keras.losses import categorical_crossentropy,binary_crossentropy\n",
    "from tensorflow.keras.callbacks import Callback,LearningRateScheduler\n",
    "from tensorflow.python.client import device_lib\n",
    "from tensorflow.keras.applications import InceptionV3\n",
    "from tensorflow.keras.models import Sequential\n",
    "from tensorflow.keras.layers import Dense, GlobalAveragePooling2D\n"
   ]
  },
  {
   "cell_type": "code",
   "execution_count": 2,
   "id": "4103c2b7-3dcf-47a3-a79c-41d645a10aa6",
   "metadata": {},
   "outputs": [],
   "source": [
    "# 지갑, 키, 가방, 노트북"
   ]
  },
  {
   "cell_type": "code",
   "execution_count": 3,
   "id": "bd0fddb8-47d6-45f8-b3e6-ff7b6ab8f0e9",
   "metadata": {},
   "outputs": [
    {
     "data": {
      "text/plain": [
       "'C:\\\\Users\\\\User\\\\Desktop\\\\개인\\\\cap\\\\ml'"
      ]
     },
     "execution_count": 3,
     "metadata": {},
     "output_type": "execute_result"
    }
   ],
   "source": [
    "os.getcwd()"
   ]
  },
  {
   "cell_type": "code",
   "execution_count": 4,
   "id": "e712b6d1-7c15-4cce-9ae4-4767023ee560",
   "metadata": {
    "tags": []
   },
   "outputs": [],
   "source": [
    "#import os\n",
    "# import random\n",
    "# from shutil import copyfile\n",
    "\n",
    "# source_dir = './data/'  # Source directory with your data\n",
    "# train_dir = './data/train/'  # Destination directory for training data\n",
    "# test_dir = './data/test/'    # Destination directory for testing data\n",
    "\n",
    "# # Create the train and test directories if they don't exist\n",
    "# os.makedirs(train_dir, exist_ok=True)\n",
    "# os.makedirs(test_dir, exist_ok=True)\n",
    "\n",
    "# # Define the ratio of data to be used for training\n",
    "# train_ratio = 0.8  # 80% for training, 20% for testing\n",
    "# CLASS_NAMES = ['key','wallet']\n",
    "# # Iterate through your class names (e.g., \"true\" and \"false\")\n",
    "# for class_name in CLASS_NAMES:\n",
    "#     class_source_dir = os.path.join(source_dir, class_name)\n",
    "#     class_train_dir = os.path.join(train_dir, class_name)\n",
    "#     class_test_dir = os.path.join(test_dir, class_name)\n",
    "\n",
    "#     # Create the class-specific train and test directories\n",
    "#     os.makedirs(class_train_dir, exist_ok=True)\n",
    "#     os.makedirs(class_test_dir, exist_ok=True)\n",
    "\n",
    "#     # List all files in the source directory for the current class\n",
    "#     file_list = os.listdir(class_source_dir)\n",
    "\n",
    "#     # Shuffle the file list to randomly split the data\n",
    "#     random.shuffle(file_list)\n",
    "\n",
    "#     # Calculate the number of files for training and testing based on the ratio\n",
    "#     num_files = len(file_list)\n",
    "#     num_train_files = int(train_ratio * num_files)\n",
    "\n",
    "#     # Move the files to the appropriate train and test directories\n",
    "#     for i, file_name in enumerate(file_list):\n",
    "#         source_file = os.path.join(class_source_dir, file_name)\n",
    "#         if i < num_train_files:\n",
    "#             destination_dir = class_train_dir\n",
    "#         else:\n",
    "#             destination_dir = class_test_dir\n",
    "#         destination_file = os.path.join(destination_dir, file_name)\n",
    "\n",
    "#         copyfile(source_file, destination_file)\n",
    "\n",
    "# # Now your data is split into train and test directories\n"
   ]
  },
  {
   "cell_type": "code",
   "execution_count": 75,
   "id": "be2c9b98-5f4e-4040-8e84-48fb29012ea8",
   "metadata": {},
   "outputs": [
    {
     "name": "stdout",
     "output_type": "stream",
     "text": [
      "0\n",
      "Found 707 images belonging to 4 classes.\n",
      "Found 175 images belonging to 4 classes.\n",
      "Found 202 images belonging to 4 classes.\n"
     ]
    }
   ],
   "source": [
    "from tensorflow.keras.applications import MobileNetV2\n",
    "from tensorflow.keras.applications import VGG16\n",
    "\n",
    "image_generator = ImageDataGenerator(rescale=1./255)\n",
    "\n",
    "base_dir = Path('./data')\n",
    "\n",
    "train_dir = './data/train'\n",
    "\n",
    "\n",
    "test_dir = './data/test'\n",
    "BATCH_SIZE = 3\n",
    "IMG_HEIGHT = 75\n",
    "IMG_WIDTH = 75\n",
    "image_count = len(list(base_dir.glob('*.jpg')))\n",
    "print(image_count)\n",
    "STEPS_PER_EPOCH = np.ceil(image_count/BATCH_SIZE)\n",
    "CLASS_NAMES = [\"key\", \"wallet\", \"bagpack\", \"laptop\"]\n",
    "\n",
    "# 이미지 데이터 증강을 위한 ImageDataGenerator 생성\n",
    "datagen = ImageDataGenerator(rescale=1./255,  # 이미지 값을 0과 1 사이로 스케일 조정\n",
    "                             #shear_range=0.2,  # 전단 변환\n",
    "                             #zoom_range=0.2,   # 확대/축소 변환\n",
    "                             #horizontal_flip=True,  # 수평 뒤집기\n",
    "                             validation_split=0.2)  # 검증 데이터의 비율을 20%로 설정\n",
    "\n",
    "# 데이터를 읽어오고 나누기\n",
    "train_data_generator = datagen.flow_from_directory(\n",
    "    train_dir,\n",
    "    target_size=(IMG_HEIGHT, IMG_WIDTH),\n",
    "    batch_size=BATCH_SIZE,\n",
    "    class_mode='categorical',  # 분류 문제인 경우 'categorical'로 설정\n",
    "    subset='training')  # 학습 데이터로 사용할 부분\n",
    "\n",
    "validation_data_generator = datagen.flow_from_directory(\n",
    "    train_dir,\n",
    "    target_size=(IMG_HEIGHT, IMG_WIDTH),\n",
    "    batch_size=BATCH_SIZE,\n",
    "    class_mode='categorical',\n",
    "    subset='validation')  # 검증 데이터로 사용할 부분\n",
    "\n",
    "\n",
    "test_data_generator = image_generator.flow_from_directory(\n",
    "    test_dir,\n",
    "    target_size=(IMG_HEIGHT, IMG_WIDTH),\n",
    "    batch_size=BATCH_SIZE,\n",
    "    class_mode='categorical',\n",
    "    subset=None)  # 테스트 데이터로 사용할 부분"
   ]
  },
  {
   "cell_type": "code",
   "execution_count": 77,
   "id": "6eb7e192-365f-436f-b54b-49e41cd792f1",
   "metadata": {},
   "outputs": [
    {
     "name": "stdout",
     "output_type": "stream",
     "text": [
      "WARNING:tensorflow:`input_shape` is undefined or non-square, or `rows` is not in [96, 128, 160, 192, 224]. Weights for input shape (224, 224) will be loaded as the default.\n"
     ]
    },
    {
     "name": "stderr",
     "output_type": "stream",
     "text": [
      "WARNING:tensorflow:`input_shape` is undefined or non-square, or `rows` is not in [96, 128, 160, 192, 224]. Weights for input shape (224, 224) will be loaded as the default.\n"
     ]
    },
    {
     "name": "stdout",
     "output_type": "stream",
     "text": [
      "Model: \"sequential_16\"\n",
      "_________________________________________________________________\n",
      " Layer (type)                Output Shape              Param #   \n",
      "=================================================================\n",
      " mobilenetv2_1.00_224 (Func  (None, 3, 3, 1280)        2257984   \n",
      " tional)                                                         \n",
      "                                                                 \n",
      " global_average_pooling2d_3  (None, 1280)              0         \n",
      "  (GlobalAveragePooling2D)                                       \n",
      "                                                                 \n",
      " dense_21 (Dense)            (None, 128)               163968    \n",
      "                                                                 \n",
      " dense_22 (Dense)            (None, 4)                 516       \n",
      "                                                                 \n",
      "=================================================================\n",
      "Total params: 2422468 (9.24 MB)\n",
      "Trainable params: 164484 (642.52 KB)\n",
      "Non-trainable params: 2257984 (8.61 MB)\n",
      "_________________________________________________________________\n"
     ]
    }
   ],
   "source": [
    "base_model = MobileNetV2(weights='imagenet', include_top=False, input_shape=(IMG_HEIGHT, IMG_WIDTH, 3))\n",
    "\n",
    "# Freeze the convolutional layers\n",
    "for layer in base_model.layers:\n",
    "    layer.trainable = False\n",
    "\n",
    "# Create a new model on top of the pre-trained base model\n",
    "model = Sequential([\n",
    "    base_model,\n",
    "    GlobalAveragePooling2D(),\n",
    "    Dense(128, activation='relu'),\n",
    "    Dense(4, activation='softmax')  # Assuming you have 4 classes\n",
    "])\n",
    "\n",
    "# Compile the model\n",
    "model.compile(optimizer=Adam(learning_rate=0.0001),  # Adjust the learning rate as needed\n",
    "              loss='categorical_crossentropy',\n",
    "              metrics=['accuracy'])\n",
    "\n",
    "# Display the model summary\n",
    "model.summary()"
   ]
  },
  {
   "cell_type": "code",
   "execution_count": 80,
   "id": "bad593ca-4dac-42c9-aaab-7be849b6307c",
   "metadata": {},
   "outputs": [
    {
     "name": "stdout",
     "output_type": "stream",
     "text": [
      "Epoch 1/10\n",
      "236/236 [==============================] - 3s 13ms/step - loss: 0.0952 - accuracy: 0.9830 - val_loss: 0.3880 - val_accuracy: 0.8514\n",
      "Epoch 2/10\n",
      "236/236 [==============================] - 3s 13ms/step - loss: 0.0885 - accuracy: 0.9830 - val_loss: 0.4046 - val_accuracy: 0.8571\n",
      "Epoch 3/10\n",
      "236/236 [==============================] - 3s 13ms/step - loss: 0.0617 - accuracy: 0.9901 - val_loss: 0.4243 - val_accuracy: 0.8286\n",
      "Epoch 4/10\n",
      "236/236 [==============================] - 3s 13ms/step - loss: 0.0470 - accuracy: 0.9958 - val_loss: 0.4161 - val_accuracy: 0.8286\n",
      "Epoch 5/10\n",
      "236/236 [==============================] - 3s 13ms/step - loss: 0.0398 - accuracy: 0.9943 - val_loss: 0.3975 - val_accuracy: 0.8514\n",
      "Epoch 6/10\n",
      "236/236 [==============================] - 3s 13ms/step - loss: 0.0348 - accuracy: 0.9958 - val_loss: 0.4007 - val_accuracy: 0.8514\n",
      "Epoch 7/10\n",
      "236/236 [==============================] - 3s 13ms/step - loss: 0.0270 - accuracy: 0.9986 - val_loss: 0.4598 - val_accuracy: 0.8286\n",
      "Epoch 7: early stopping\n"
     ]
    }
   ],
   "source": [
    "from tensorflow.keras.callbacks import EarlyStopping\n",
    "\n",
    "# Define EarlyStopping callback\n",
    "early_stopping = EarlyStopping(monitor='val_accuracy',  # Monitor the validation accuracy\n",
    "                               patience=5,  # Number of epochs with no improvement after which training will be stopped\n",
    "                               mode='max',  # 'max' means training will stop when the quantity monitored has stopped increasing\n",
    "                               verbose=1)  # Display a message when training is stopped\n",
    "\n",
    "# 모델 훈련\n",
    "history = model.fit(\n",
    "    train_data_generator,\n",
    "    epochs=10,  # You can set a large number of epochs, EarlyStopping will stop training when the condition is met\n",
    "    validation_data=validation_data_generator,\n",
    "    callbacks=[early_stopping]  # Add EarlyStopping callback to the training loop\n",
    ")\n"
   ]
  },
  {
   "cell_type": "code",
   "execution_count": 81,
   "id": "e25b888b-41db-40b0-bbd4-0d5b7a7347f7",
   "metadata": {},
   "outputs": [
    {
     "name": "stdout",
     "output_type": "stream",
     "text": [
      "68/68 - 1s - loss: 0.3376 - accuracy: 0.8911 - 640ms/epoch - 9ms/step\n",
      "Test accuracy: 0.8911\n"
     ]
    }
   ],
   "source": [
    "test_loss, test_accuracy = model.evaluate(test_data_generator, verbose=2)\n",
    "\n",
    "print(f\"Test accuracy: {test_accuracy:.4f}\")"
   ]
  },
  {
   "cell_type": "code",
   "execution_count": 82,
   "id": "450166a7-baa9-4a8a-b728-f3832d2a9cc1",
   "metadata": {},
   "outputs": [
    {
     "data": {
      "image/png": "[encoded data removed]",
      "text/plain": [
       "<Figure size 1200x400 with 2 Axes>"
      ]
     },
     "metadata": {},
     "output_type": "display_data"
    },
    {
     "ename": "IndexError",
     "evalue": "too many indices for array: array is 1-dimensional, but 2 were indexed",
     "output_type": "error",
     "traceback": [
      "\u001b[1;31m---------------------------------------------------------------------------\u001b[0m",
      "\u001b[1;31mIndexError\u001b[0m                                Traceback (most recent call last)",
      "Cell \u001b[1;32mIn[82], line 34\u001b[0m\n\u001b[0;32m     30\u001b[0m y_true \u001b[38;5;241m=\u001b[39m np\u001b[38;5;241m.\u001b[39marray(y_true)\n\u001b[0;32m     31\u001b[0m y_pred \u001b[38;5;241m=\u001b[39m np\u001b[38;5;241m.\u001b[39marray(y_pred)\n\u001b[1;32m---> 34\u001b[0m fpr, tpr, _ \u001b[38;5;241m=\u001b[39m roc_curve(y_true[:, \u001b[38;5;241m1\u001b[39m], y_pred[:, \u001b[38;5;241m1\u001b[39m])\n\u001b[0;32m     35\u001b[0m roc_auc \u001b[38;5;241m=\u001b[39m auc(fpr, tpr)\n\u001b[0;32m     37\u001b[0m \u001b[38;5;66;03m# Plot ROC curve\u001b[39;00m\n",
      "\u001b[1;31mIndexError\u001b[0m: too many indices for array: array is 1-dimensional, but 2 were indexed"
     ]
    }
   ],
   "source": [
    "# Plot Loss\n",
    "plt.figure(figsize=(12, 4))\n",
    "plt.subplot(1, 2, 1)\n",
    "plt.plot(history.history['loss'], label='Training Loss')\n",
    "plt.plot(history.history['val_loss'], label='Validation Loss')\n",
    "plt.xlabel('Epoch')\n",
    "plt.ylabel('Loss')\n",
    "plt.legend()\n",
    "\n",
    "# Plot Accuracy\n",
    "plt.subplot(1, 2, 2)\n",
    "plt.plot(history.history['accuracy'], label='Training Accuracy')\n",
    "plt.plot(history.history['val_accuracy'], label='Validation Accuracy')\n",
    "plt.xlabel('Epoch')\n",
    "plt.ylabel('Accuracy')\n",
    "plt.legend()\n",
    "\n",
    "plt.show()\n",
    "\n",
    "# Calculate ROC curve and AUC\n",
    "validation_data_gen.reset()\n",
    "y_true = []\n",
    "y_pred = []\n",
    "\n",
    "for i in range(len(validation_data_gen)):\n",
    "    x_val, y_val = validation_data_gen[i]\n",
    "    y_true.extend(y_val)\n",
    "    y_pred.extend(model.predict(x_val))\n",
    "\n",
    "y_true = np.array(y_true)\n",
    "y_pred = np.array(y_pred)\n",
    "\n",
    "\n",
    "fpr, tpr, _ = roc_curve(y_true[:, 1], y_pred[:, 1])\n",
    "roc_auc = auc(fpr, tpr)\n",
    "\n",
    "# Plot ROC curve\n",
    "plt.figure(figsize=(6, 6))\n",
    "plt.plot(fpr, tpr, color='darkorange', lw=2, label='ROC curve (area = %0.2f)' % roc_auc)\n",
    "plt.plot([0, 1], [0, 1], color='navy', lw=2, linestyle='--')\n",
    "plt.xlim([0.0, 1.0])\n",
    "plt.ylim([0.0, 1.05])\n",
    "plt.xlabel('False Positive Rate')\n",
    "plt.ylabel('True Positive Rate')\n",
    "plt.title('Receiver Operating Characteristic (ROC)')\n",
    "plt.legend(loc='lower right')\n",
    "plt.show()\n",
    "\n",
    "# Calculate precision-recall curve and AUC\n",
    "precision, recall, _ = precision_recall_curve(y_true[:, 1], y_pred[:, 1])\n",
    "pr_auc = average_precision_score(y_true[:, 1], y_pred[:, 1])\n",
    "\n",
    "# Plot Precision-Recall curve\n",
    "plt.figure(figsize=(6, 6))\n",
    "plt.plot(recall, precision, color='darkorange', lw=2, label='PR curve (AUC = %0.2f)' % pr_auc)\n",
    "plt.xlim([0.0, 1.0])\n",
    "plt.ylim([0.0, 1.05])\n",
    "plt.xlabel('Recall')\n",
    "plt.ylabel('Precision')\n",
    "plt.title('Precision-Recall Curve')\n",
    "plt.legend(loc='lower left')\n",
    "plt.show()\n",
    "\n"
   ]
  },
  {
   "cell_type": "code",
   "execution_count": 83,
   "id": "1c9cb1a2-8111-4265-a76a-4784bf2de640",
   "metadata": {},
   "outputs": [
    {
     "name": "stderr",
     "output_type": "stream",
     "text": [
      "C:\\Users\\User\\anaconda3\\Lib\\site-packages\\keras\\src\\engine\\training.py:3103: UserWarning: You are saving your model as an HDF5 file via `model.save()`. This file format is considered legacy. We recommend using instead the native Keras format, e.g. `model.save('my_model.keras')`.\n",
      "  saving_api.save_model(\n"
     ]
    }
   ],
   "source": [
    "model.save(\"capstone.h5\")"
   ]
  },
  {
   "cell_type": "code",
   "execution_count": null,
   "id": "a8cb8b02-d0d1-49f2-87cf-39e67c53a73a",
   "metadata": {},
   "outputs": [],
   "source": [
    "print(tf.__version__)"
   ]
  },
  {
   "cell_type": "code",
   "execution_count": 86,
   "id": "919bcb12-bcdb-43e9-af2d-dc987b5fbe79",
   "metadata": {
    "tags": []
   },
   "outputs": [
    {
     "name": "stdout",
     "output_type": "stream",
     "text": [
      "Model: \"sequential_16\"\n",
      "_________________________________________________________________\n",
      " Layer (type)                Output Shape              Param #   \n",
      "=================================================================\n",
      " mobilenetv2_1.00_224 (Func  (None, 3, 3, 1280)        2257984   \n",
      " tional)                                                         \n",
      "                                                                 \n",
      " global_average_pooling2d_3  (None, 1280)              0         \n",
      "  (GlobalAveragePooling2D)                                       \n",
      "                                                                 \n",
      " dense_21 (Dense)            (None, 128)               163968    \n",
      "                                                                 \n",
      " dense_22 (Dense)            (None, 4)                 516       \n",
      "                                                                 \n",
      "=================================================================\n",
      "Total params: 2422468 (9.24 MB)\n",
      "Trainable params: 164484 (642.52 KB)\n",
      "Non-trainable params: 2257984 (8.61 MB)\n",
      "_________________________________________________________________\n"
     ]
    }
   ],
   "source": [
    "from tensorflow.keras.models import load_model\n",
    "loaded_model = load_model('capstone.h5')  # Replace with the path to your saved model file\n",
    "\n",
    "# Display the summary of the loaded model\n",
    "loaded_model.summary()"
   ]
  },
  {
   "cell_type": "code",
   "execution_count": null,
   "id": "dc30d6aa-16c0-4d48-9acb-6925c8e6589a",
   "metadata": {},
   "outputs": [],
   "source": []
  }
 ],
 "metadata": {
  "kernelspec": {
   "display_name": "Python 3 (ipykernel)",
   "language": "python",
   "name": "python3"
  },
  "language_info": {
   "codemirror_mode": {
    "name": "ipython",
    "version": 3
   },
   "file_extension": ".py",
   "mimetype": "text/x-python",
   "name": "python",
   "nbconvert_exporter": "python",
   "pygments_lexer": "ipython3",
   "version": "3.11.5"
  }
 },
 "nbformat": 4,
 "nbformat_minor": 5
}
